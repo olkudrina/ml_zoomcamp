{
 "cells": [
  {
   "cell_type": "code",
   "execution_count": 1,
   "metadata": {},
   "outputs": [],
   "source": [
    "import pandas as pd\n",
    "import numpy as np\n",
    "import seaborn as sns\n",
    "import matplotlib.pyplot as plt\n",
    "from sklearn.model_selection import train_test_split\n",
    "from sklearn.feature_extraction import DictVectorizer"
   ]
  },
  {
   "cell_type": "markdown",
   "metadata": {},
   "source": [
    "For this homework, we only want to use a subset of data. \n",
    "\n",
    "Preparation:\n",
    "<li>Keep only the records where ocean_proximity is either '<1H OCEAN' or 'INLAND'\n",
    "<li>Fill missing values with zeros.\n",
    "<li>Apply the log transform to median_house_value.\n",
    "<li>Do train/validation/test split with 60%/20%/20% distribution.\n",
    "<li>Use the train_test_split function and set the random_state parameter to 1.\n",
    "<li>Use DictVectorizer(sparse=True) to turn the dataframes into matrices.\n"
   ]
  },
  {
   "cell_type": "code",
   "execution_count": 2,
   "metadata": {},
   "outputs": [
    {
     "data": {
      "text/html": [
       "<div>\n",
       "<style scoped>\n",
       "    .dataframe tbody tr th:only-of-type {\n",
       "        vertical-align: middle;\n",
       "    }\n",
       "\n",
       "    .dataframe tbody tr th {\n",
       "        vertical-align: top;\n",
       "    }\n",
       "\n",
       "    .dataframe thead th {\n",
       "        text-align: right;\n",
       "    }\n",
       "</style>\n",
       "<table border=\"1\" class=\"dataframe\">\n",
       "  <thead>\n",
       "    <tr style=\"text-align: right;\">\n",
       "      <th></th>\n",
       "      <th>longitude</th>\n",
       "      <th>latitude</th>\n",
       "      <th>housing_median_age</th>\n",
       "      <th>total_rooms</th>\n",
       "      <th>total_bedrooms</th>\n",
       "      <th>population</th>\n",
       "      <th>households</th>\n",
       "      <th>median_income</th>\n",
       "      <th>median_house_value</th>\n",
       "      <th>ocean_proximity</th>\n",
       "    </tr>\n",
       "  </thead>\n",
       "  <tbody>\n",
       "    <tr>\n",
       "      <th>10608</th>\n",
       "      <td>-117.78</td>\n",
       "      <td>33.68</td>\n",
       "      <td>14.0</td>\n",
       "      <td>1750.0</td>\n",
       "      <td>336.0</td>\n",
       "      <td>852.0</td>\n",
       "      <td>300.0</td>\n",
       "      <td>4.6793</td>\n",
       "      <td>236800.0</td>\n",
       "      <td>&lt;1H OCEAN</td>\n",
       "    </tr>\n",
       "    <tr>\n",
       "      <th>15968</th>\n",
       "      <td>-122.40</td>\n",
       "      <td>37.71</td>\n",
       "      <td>40.0</td>\n",
       "      <td>1883.0</td>\n",
       "      <td>397.0</td>\n",
       "      <td>1411.0</td>\n",
       "      <td>438.0</td>\n",
       "      <td>3.0469</td>\n",
       "      <td>238000.0</td>\n",
       "      <td>NEAR BAY</td>\n",
       "    </tr>\n",
       "    <tr>\n",
       "      <th>20461</th>\n",
       "      <td>-118.75</td>\n",
       "      <td>34.28</td>\n",
       "      <td>22.0</td>\n",
       "      <td>3844.0</td>\n",
       "      <td>537.0</td>\n",
       "      <td>1665.0</td>\n",
       "      <td>492.0</td>\n",
       "      <td>6.2059</td>\n",
       "      <td>239900.0</td>\n",
       "      <td>&lt;1H OCEAN</td>\n",
       "    </tr>\n",
       "    <tr>\n",
       "      <th>4358</th>\n",
       "      <td>-118.37</td>\n",
       "      <td>34.08</td>\n",
       "      <td>52.0</td>\n",
       "      <td>2946.0</td>\n",
       "      <td>695.0</td>\n",
       "      <td>1258.0</td>\n",
       "      <td>650.0</td>\n",
       "      <td>3.9783</td>\n",
       "      <td>374100.0</td>\n",
       "      <td>&lt;1H OCEAN</td>\n",
       "    </tr>\n",
       "    <tr>\n",
       "      <th>12907</th>\n",
       "      <td>-121.33</td>\n",
       "      <td>38.60</td>\n",
       "      <td>25.0</td>\n",
       "      <td>4260.0</td>\n",
       "      <td>607.0</td>\n",
       "      <td>1635.0</td>\n",
       "      <td>640.0</td>\n",
       "      <td>6.2817</td>\n",
       "      <td>288200.0</td>\n",
       "      <td>INLAND</td>\n",
       "    </tr>\n",
       "  </tbody>\n",
       "</table>\n",
       "</div>"
      ],
      "text/plain": [
       "       longitude  latitude  housing_median_age  total_rooms  total_bedrooms  \\\n",
       "10608    -117.78     33.68                14.0       1750.0           336.0   \n",
       "15968    -122.40     37.71                40.0       1883.0           397.0   \n",
       "20461    -118.75     34.28                22.0       3844.0           537.0   \n",
       "4358     -118.37     34.08                52.0       2946.0           695.0   \n",
       "12907    -121.33     38.60                25.0       4260.0           607.0   \n",
       "\n",
       "       population  households  median_income  median_house_value  \\\n",
       "10608       852.0       300.0         4.6793            236800.0   \n",
       "15968      1411.0       438.0         3.0469            238000.0   \n",
       "20461      1665.0       492.0         6.2059            239900.0   \n",
       "4358       1258.0       650.0         3.9783            374100.0   \n",
       "12907      1635.0       640.0         6.2817            288200.0   \n",
       "\n",
       "      ocean_proximity  \n",
       "10608       <1H OCEAN  \n",
       "15968        NEAR BAY  \n",
       "20461       <1H OCEAN  \n",
       "4358        <1H OCEAN  \n",
       "12907          INLAND  "
      ]
     },
     "execution_count": 2,
     "metadata": {},
     "output_type": "execute_result"
    }
   ],
   "source": [
    "df = pd.read_csv('housing.csv')\n",
    "df.sample(5)"
   ]
  },
  {
   "cell_type": "code",
   "execution_count": 3,
   "metadata": {},
   "outputs": [],
   "source": [
    "df.drop(df[~df['ocean_proximity'].isin(['<1H OCEAN', 'INLAND'])].index, inplace=True)\n",
    "df.fillna(0, inplace=True)\n",
    "df['price'] = np.log1p(df.median_house_value)\n",
    "median_house_value = df.median_house_value\n",
    "df.drop('median_house_value', axis=1, inplace=True)"
   ]
  },
  {
   "cell_type": "code",
   "execution_count": 4,
   "metadata": {},
   "outputs": [],
   "source": [
    "df_train_val, df_test = train_test_split(df, test_size=0.2, random_state=1)\n",
    "df_train, df_val = train_test_split(df_train_val, test_size=0.25, random_state=1)\n",
    "del df_train_val\n",
    "\n",
    "def x_y_split_and_index(df, y_column):\n",
    "    df.reset_index(drop=True, inplace=True)\n",
    "    cols_x = df.columns[df.columns!=y_column]\n",
    "    X = df[cols_x].copy()\n",
    "    y = df[y_column].values\n",
    "    return X, y\n",
    "\n",
    "X_train, y_train = x_y_split_and_index(df_train, 'price')\n",
    "X_test, y_test = x_y_split_and_index(df_test, 'price')\n",
    "X_val, y_val = x_y_split_and_index(df_val, 'price')"
   ]
  },
  {
   "cell_type": "code",
   "execution_count": 5,
   "metadata": {},
   "outputs": [],
   "source": [
    "train_dicts = X_train.to_dict(orient='records')\n",
    "dv = DictVectorizer(sparse=False)\n",
    "X_train = dv.fit_transform(train_dicts)\n",
    "X_val = dv.transform(X_val.to_dict(orient='records'))\n",
    "X_test = dv.transform(X_test.to_dict(orient='records'))"
   ]
  },
  {
   "cell_type": "markdown",
   "metadata": {},
   "source": [
    "##### Question 1\n",
    "\n",
    "Let's train a decision tree regressor to predict the median_house_value variable.<br>\n",
    "Train a model with max_depth=1.<br>\n",
    "Which feature is used for splitting the data?"
   ]
  },
  {
   "cell_type": "code",
   "execution_count": 6,
   "metadata": {},
   "outputs": [],
   "source": [
    "from sklearn.tree import DecisionTreeRegressor"
   ]
  },
  {
   "cell_type": "code",
   "execution_count": 7,
   "metadata": {},
   "outputs": [
    {
     "data": {
      "text/html": [
       "<style>#sk-container-id-1 {color: black;}#sk-container-id-1 pre{padding: 0;}#sk-container-id-1 div.sk-toggleable {background-color: white;}#sk-container-id-1 label.sk-toggleable__label {cursor: pointer;display: block;width: 100%;margin-bottom: 0;padding: 0.3em;box-sizing: border-box;text-align: center;}#sk-container-id-1 label.sk-toggleable__label-arrow:before {content: \"▸\";float: left;margin-right: 0.25em;color: #696969;}#sk-container-id-1 label.sk-toggleable__label-arrow:hover:before {color: black;}#sk-container-id-1 div.sk-estimator:hover label.sk-toggleable__label-arrow:before {color: black;}#sk-container-id-1 div.sk-toggleable__content {max-height: 0;max-width: 0;overflow: hidden;text-align: left;background-color: #f0f8ff;}#sk-container-id-1 div.sk-toggleable__content pre {margin: 0.2em;color: black;border-radius: 0.25em;background-color: #f0f8ff;}#sk-container-id-1 input.sk-toggleable__control:checked~div.sk-toggleable__content {max-height: 200px;max-width: 100%;overflow: auto;}#sk-container-id-1 input.sk-toggleable__control:checked~label.sk-toggleable__label-arrow:before {content: \"▾\";}#sk-container-id-1 div.sk-estimator input.sk-toggleable__control:checked~label.sk-toggleable__label {background-color: #d4ebff;}#sk-container-id-1 div.sk-label input.sk-toggleable__control:checked~label.sk-toggleable__label {background-color: #d4ebff;}#sk-container-id-1 input.sk-hidden--visually {border: 0;clip: rect(1px 1px 1px 1px);clip: rect(1px, 1px, 1px, 1px);height: 1px;margin: -1px;overflow: hidden;padding: 0;position: absolute;width: 1px;}#sk-container-id-1 div.sk-estimator {font-family: monospace;background-color: #f0f8ff;border: 1px dotted black;border-radius: 0.25em;box-sizing: border-box;margin-bottom: 0.5em;}#sk-container-id-1 div.sk-estimator:hover {background-color: #d4ebff;}#sk-container-id-1 div.sk-parallel-item::after {content: \"\";width: 100%;border-bottom: 1px solid gray;flex-grow: 1;}#sk-container-id-1 div.sk-label:hover label.sk-toggleable__label {background-color: #d4ebff;}#sk-container-id-1 div.sk-serial::before {content: \"\";position: absolute;border-left: 1px solid gray;box-sizing: border-box;top: 0;bottom: 0;left: 50%;z-index: 0;}#sk-container-id-1 div.sk-serial {display: flex;flex-direction: column;align-items: center;background-color: white;padding-right: 0.2em;padding-left: 0.2em;position: relative;}#sk-container-id-1 div.sk-item {position: relative;z-index: 1;}#sk-container-id-1 div.sk-parallel {display: flex;align-items: stretch;justify-content: center;background-color: white;position: relative;}#sk-container-id-1 div.sk-item::before, #sk-container-id-1 div.sk-parallel-item::before {content: \"\";position: absolute;border-left: 1px solid gray;box-sizing: border-box;top: 0;bottom: 0;left: 50%;z-index: -1;}#sk-container-id-1 div.sk-parallel-item {display: flex;flex-direction: column;z-index: 1;position: relative;background-color: white;}#sk-container-id-1 div.sk-parallel-item:first-child::after {align-self: flex-end;width: 50%;}#sk-container-id-1 div.sk-parallel-item:last-child::after {align-self: flex-start;width: 50%;}#sk-container-id-1 div.sk-parallel-item:only-child::after {width: 0;}#sk-container-id-1 div.sk-dashed-wrapped {border: 1px dashed gray;margin: 0 0.4em 0.5em 0.4em;box-sizing: border-box;padding-bottom: 0.4em;background-color: white;}#sk-container-id-1 div.sk-label label {font-family: monospace;font-weight: bold;display: inline-block;line-height: 1.2em;}#sk-container-id-1 div.sk-label-container {text-align: center;}#sk-container-id-1 div.sk-container {/* jupyter's `normalize.less` sets `[hidden] { display: none; }` but bootstrap.min.css set `[hidden] { display: none !important; }` so we also need the `!important` here to be able to override the default hidden behavior on the sphinx rendered scikit-learn.org. See: https://github.com/scikit-learn/scikit-learn/issues/21755 */display: inline-block !important;position: relative;}#sk-container-id-1 div.sk-text-repr-fallback {display: none;}</style><div id=\"sk-container-id-1\" class=\"sk-top-container\"><div class=\"sk-text-repr-fallback\"><pre>DecisionTreeRegressor(max_depth=1, random_state=1)</pre><b>In a Jupyter environment, please rerun this cell to show the HTML representation or trust the notebook. <br />On GitHub, the HTML representation is unable to render, please try loading this page with nbviewer.org.</b></div><div class=\"sk-container\" hidden><div class=\"sk-item\"><div class=\"sk-estimator sk-toggleable\"><input class=\"sk-toggleable__control sk-hidden--visually\" id=\"sk-estimator-id-1\" type=\"checkbox\" checked><label for=\"sk-estimator-id-1\" class=\"sk-toggleable__label sk-toggleable__label-arrow\">DecisionTreeRegressor</label><div class=\"sk-toggleable__content\"><pre>DecisionTreeRegressor(max_depth=1, random_state=1)</pre></div></div></div></div></div>"
      ],
      "text/plain": [
       "DecisionTreeRegressor(max_depth=1, random_state=1)"
      ]
     },
     "execution_count": 7,
     "metadata": {},
     "output_type": "execute_result"
    }
   ],
   "source": [
    "model = DecisionTreeRegressor(max_depth=1, random_state=1)\n",
    "model.fit(X_train, y_train)"
   ]
  },
  {
   "cell_type": "code",
   "execution_count": 8,
   "metadata": {},
   "outputs": [
    {
     "data": {
      "text/plain": [
       "{'longitude': 0.0,\n",
       " 'latitude': 0.0,\n",
       " 'housing_median_age': 0.0,\n",
       " 'total_rooms': 0.0,\n",
       " 'total_bedrooms': 0.0,\n",
       " 'population': 1.0,\n",
       " 'households': 0.0,\n",
       " 'median_income': 0.0,\n",
       " 'ocean_proximity': 0.0}"
      ]
     },
     "execution_count": 8,
     "metadata": {},
     "output_type": "execute_result"
    }
   ],
   "source": [
    "dict(zip(df.columns[:-1], model.feature_importances_))"
   ]
  },
  {
   "cell_type": "markdown",
   "metadata": {},
   "source": [
    "##### Question 2\n",
    "Train a random forest model with these parameters:\n",
    "<li>n_estimators=10\n",
    "<li>random_state=1\n",
    "<li>n_jobs=-1 (optional - to make training faster)</li>\n",
    "What's the RMSE of this model on validation?"
   ]
  },
  {
   "cell_type": "code",
   "execution_count": 9,
   "metadata": {},
   "outputs": [],
   "source": [
    "from sklearn.ensemble import RandomForestRegressor\n",
    "from sklearn.metrics import mean_squared_error"
   ]
  },
  {
   "cell_type": "code",
   "execution_count": 10,
   "metadata": {},
   "outputs": [
    {
     "data": {
      "text/plain": [
       "0.24459962783255346"
      ]
     },
     "execution_count": 10,
     "metadata": {},
     "output_type": "execute_result"
    }
   ],
   "source": [
    "model_2 = RandomForestRegressor(n_estimators=10, n_jobs=-1, random_state=1)\n",
    "model_2.fit(X_train, y_train)\n",
    "y_pred = model_2.predict(X_val)\n",
    "np.sqrt(mean_squared_error(y_val, y_pred)) "
   ]
  },
  {
   "cell_type": "markdown",
   "metadata": {},
   "source": [
    "##### Question 3\n",
    "Now let's experiment with the n_estimators parameter\n",
    "<br>\n",
    "Try different values of this parameter from 10 to 200 with step 10.<br>\n",
    "Evaluate the model on the validation dataset.<br>\n",
    "After which value of n_estimators does RMSE stop improving? Consider 3 decimal places for retrieving the answer.<br>"
   ]
  },
  {
   "cell_type": "code",
   "execution_count": 11,
   "metadata": {},
   "outputs": [],
   "source": [
    "results = {}\n",
    "for step in range(10, 201, 10):\n",
    "    model_temp = RandomForestRegressor(n_estimators=step, n_jobs=-1, random_state=1)\n",
    "    model_temp.fit(X_train, y_train)\n",
    "    y_pred_tmp = model_temp.predict(X_val)\n",
    "    rmse = round(np.sqrt(mean_squared_error(y_val, y_pred_tmp)), 3)\n",
    "    results[step] = rmse"
   ]
  },
  {
   "cell_type": "code",
   "execution_count": 12,
   "metadata": {},
   "outputs": [
    {
     "data": {
      "image/png": "[encoded data removed]",
      "text/plain": [
       "<Figure size 1500x500 with 1 Axes>"
      ]
     },
     "metadata": {},
     "output_type": "display_data"
    }
   ],
   "source": [
    "plt.figure(figsize=(15, 5))\n",
    "_ = sns.lineplot(x=results.keys(), y=results.values())"
   ]
  },
  {
   "cell_type": "markdown",
   "metadata": {},
   "source": [
    "##### Question 4\n",
    "Let's select the best max_depth:\n",
    "\n",
    "Try different values of max_depth: [10, 15, 20, 25]\n",
    "For each of these values:\n",
    "<li>try different values of n_estimators from 10 till 200 (with step 10)\n",
    "<li>calculate the RMSE\n",
    "<li>Fix the random seed: random_state=1</li>\n",
    "What's the best max_depth, using the mean RMSE?"
   ]
  },
  {
   "cell_type": "code",
   "execution_count": 13,
   "metadata": {},
   "outputs": [],
   "source": [
    "results = {}\n",
    "counter = 0\n",
    "for depth in [10, 15, 20, 25]:\n",
    "    for estimator in range(10, 201, 10):\n",
    "        model_temp = RandomForestRegressor(n_estimators=estimator, max_depth=depth, n_jobs=-1, random_state=1)\n",
    "        model_temp.fit(X_train, y_train)\n",
    "        y_pred_tmp = model_temp.predict(X_val)\n",
    "        rmse = round(np.sqrt(mean_squared_error(y_val, y_pred_tmp)), 3)\n",
    "        results[counter] = [depth, estimator, rmse]\n",
    "        counter+=1\n",
    "results = pd.DataFrame.from_dict(results, orient='index')\n",
    "results.columns = ['depth', 'n_estimators', 'rmse']"
   ]
  },
  {
   "cell_type": "code",
   "execution_count": 14,
   "metadata": {},
   "outputs": [
    {
     "data": {
      "text/plain": [
       "<AxesSubplot: xlabel='n_estimators', ylabel='rmse'>"
      ]
     },
     "execution_count": 14,
     "metadata": {},
     "output_type": "execute_result"
    },
    {
     "data": {
      "image/png": "[encoded data removed]",
      "text/plain": [
       "<Figure size 640x480 with 1 Axes>"
      ]
     },
     "metadata": {},
     "output_type": "display_data"
    }
   ],
   "source": [
    "sns.lineplot(x='n_estimators', y='rmse', hue='depth', data=results)"
   ]
  },
  {
   "cell_type": "markdown",
   "metadata": {},
   "source": [
    "##### Question 5\n",
    "Train the model with these parameters:\n",
    "<li>n_estimators=10,\n",
    "<li>max_depth=20,\n",
    "<li>random_state=1,\n",
    "<li>n_jobs=-1 (optional)</li>\n",
    "What's the most important feature from this model?"
   ]
  },
  {
   "cell_type": "code",
   "execution_count": 15,
   "metadata": {},
   "outputs": [
    {
     "data": {
      "text/plain": [
       "{'longitude': 0.015043139111271224,\n",
       " 'latitude': 0.030063286803328055,\n",
       " 'housing_median_age': 0.10266505351248023,\n",
       " 'total_rooms': 0.085853413889788,\n",
       " 'total_bedrooms': 0.33548579019301683,\n",
       " 'population': 0.21881985433078302,\n",
       " 'households': 0.14745955406828146,\n",
       " 'median_income': 0.028114716700962206,\n",
       " 'ocean_proximity': 0.015433664373277032}"
      ]
     },
     "execution_count": 15,
     "metadata": {},
     "output_type": "execute_result"
    }
   ],
   "source": [
    "model = RandomForestRegressor(n_estimators=10, max_depth=20, random_state=1, n_jobs=-1)\n",
    "model.fit(X_train, y_train)\n",
    "dict(zip(df.columns[:-1], model.feature_importances_))"
   ]
  },
  {
   "cell_type": "markdown",
   "metadata": {},
   "source": [
    "##### Question 6\n",
    "Now let's train an XGBoost model! For this question, we'll tune the eta parameter:\n",
    "\n",
    "<li>Create DMatrix for train and validation\n",
    "<li>Create a watchlist\n",
    "<li>Train a model with these parameters for 100 rounds:\n",
    "<br>\n",
    "xgb_params = {\n",
    "\n",
    "    'eta': 0.3, \n",
    "    'max_depth': 6,\n",
    "    'min_child_weight': 1,\n",
    "    \n",
    "    'objective': 'reg:squarederror',\n",
    "    'nthread': 8,\n",
    "    \n",
    "    'seed': 1,\n",
    "    'verbosity': 1,\n",
    "    \n",
    "}</br>\n",
    "Now change eta from 0.3 to 0.1.\n",
    "\n",
    "Which eta leads to the best RMSE score on the validation dataset?"
   ]
  },
  {
   "cell_type": "code",
   "execution_count": 16,
   "metadata": {},
   "outputs": [],
   "source": [
    "import xgboost"
   ]
  },
  {
   "cell_type": "code",
   "execution_count": 17,
   "metadata": {},
   "outputs": [],
   "source": [
    "features = [i.replace('=<', ' less than or equal to ') for i in dv.get_feature_names_out()]\n",
    "dtrain = xgboost.DMatrix(X_train, label=y_train, feature_names=features)\n",
    "dval = xgboost.DMatrix(X_val, label=y_val, feature_names=features)"
   ]
  },
  {
   "cell_type": "code",
   "execution_count": 18,
   "metadata": {},
   "outputs": [
    {
     "data": {
      "text/plain": [
       "0.22897404244864047"
      ]
     },
     "execution_count": 18,
     "metadata": {},
     "output_type": "execute_result"
    }
   ],
   "source": [
    "xgb_params = {'eta': 0.3, \n",
    "              'max_depth': 6,\n",
    "              'min_child_weight': 1,\n",
    "              'objective': 'reg:squarederror',\n",
    "              'nthread': 8,\n",
    "              'seed': 1,\n",
    "              'verbosity': 1}\n",
    "mdl = xgboost.train(xgb_params, dtrain, num_boost_round=100)\n",
    "y_pred = mdl.predict(dval)\n",
    "np.sqrt(mean_squared_error(y_val, y_pred))"
   ]
  },
  {
   "cell_type": "code",
   "execution_count": 19,
   "metadata": {},
   "outputs": [
    {
     "data": {
      "text/plain": [
       "0.2323352139407306"
      ]
     },
     "execution_count": 19,
     "metadata": {},
     "output_type": "execute_result"
    }
   ],
   "source": [
    "xgb_params = {'eta': 0.1, \n",
    "              'max_depth': 6,\n",
    "              'min_child_weight': 1,\n",
    "              'objective': 'reg:squarederror',\n",
    "              'nthread': 8,\n",
    "              'seed': 1,\n",
    "              'verbosity': 1}\n",
    "mdl = xgboost.train(xgb_params, dtrain, num_boost_round=100)\n",
    "y_pred = mdl.predict(dval)\n",
    "np.sqrt(mean_squared_error(y_val, y_pred))"
   ]
  }
 ],
 "metadata": {
  "kernelspec": {
   "display_name": "Python 3",
   "language": "python",
   "name": "python3"
  },
  "language_info": {
   "codemirror_mode": {
    "name": "ipython",
    "version": 3
   },
   "file_extension": ".py",
   "mimetype": "text/x-python",
   "name": "python",
   "nbconvert_exporter": "python",
   "pygments_lexer": "ipython3",
   "version": "3.10.7"
  }
 },
 "nbformat": 4,
 "nbformat_minor": 2
}
