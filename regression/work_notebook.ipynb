{
 "cells": [
  {
   "cell_type": "code",
   "execution_count": 1,
   "metadata": {},
   "outputs": [],
   "source": [
    "import pandas as pd\n",
    "import numpy as np\n",
    "import matplotlib.pyplot as plt\n",
    "import seaborn as sns\n",
    "from sklearn.model_selection import train_test_split\n",
    "from sklearn.linear_model import LinearRegression\n",
    "from sklearn.metrics import mean_squared_error"
   ]
  },
  {
   "cell_type": "code",
   "execution_count": 2,
   "metadata": {},
   "outputs": [
    {
     "data": {
      "text/html": [
       "<div>\n",
       "<style scoped>\n",
       "    .dataframe tbody tr th:only-of-type {\n",
       "        vertical-align: middle;\n",
       "    }\n",
       "\n",
       "    .dataframe tbody tr th {\n",
       "        vertical-align: top;\n",
       "    }\n",
       "\n",
       "    .dataframe thead th {\n",
       "        text-align: right;\n",
       "    }\n",
       "</style>\n",
       "<table border=\"1\" class=\"dataframe\">\n",
       "  <thead>\n",
       "    <tr style=\"text-align: right;\">\n",
       "      <th></th>\n",
       "      <th>ram</th>\n",
       "      <th>storage</th>\n",
       "      <th>screen</th>\n",
       "      <th>final_price</th>\n",
       "    </tr>\n",
       "  </thead>\n",
       "  <tbody>\n",
       "    <tr>\n",
       "      <th>0</th>\n",
       "      <td>8</td>\n",
       "      <td>512</td>\n",
       "      <td>15.6</td>\n",
       "      <td>1009.0</td>\n",
       "    </tr>\n",
       "    <tr>\n",
       "      <th>1</th>\n",
       "      <td>8</td>\n",
       "      <td>256</td>\n",
       "      <td>15.6</td>\n",
       "      <td>299.0</td>\n",
       "    </tr>\n",
       "    <tr>\n",
       "      <th>2</th>\n",
       "      <td>8</td>\n",
       "      <td>256</td>\n",
       "      <td>15.6</td>\n",
       "      <td>789.0</td>\n",
       "    </tr>\n",
       "  </tbody>\n",
       "</table>\n",
       "</div>"
      ],
      "text/plain": [
       "   ram  storage  screen  final_price\n",
       "0    8      512    15.6       1009.0\n",
       "1    8      256    15.6        299.0\n",
       "2    8      256    15.6        789.0"
      ]
     },
     "execution_count": 2,
     "metadata": {},
     "output_type": "execute_result"
    }
   ],
   "source": [
    "df = pd.read_csv('laptops.csv')\n",
    "df.columns = df.columns.str.lower().str.replace(' ', '_')\n",
    "df = df[['ram', 'storage', 'screen', 'final_price']].copy()\n",
    "df.head(3)"
   ]
  },
  {
   "cell_type": "code",
   "execution_count": 3,
   "metadata": {},
   "outputs": [
    {
     "data": {
      "text/plain": [
       "ram            0\n",
       "storage        0\n",
       "screen         4\n",
       "final_price    0\n",
       "dtype: int64"
      ]
     },
     "execution_count": 3,
     "metadata": {},
     "output_type": "execute_result"
    }
   ],
   "source": [
    "# There's one column with missing values. What is it?\n",
    "df.isna().sum()"
   ]
  },
  {
   "cell_type": "code",
   "execution_count": 4,
   "metadata": {},
   "outputs": [
    {
     "data": {
      "text/plain": [
       "16.0"
      ]
     },
     "execution_count": 4,
     "metadata": {},
     "output_type": "execute_result"
    }
   ],
   "source": [
    "# What's the median (50% percentile) for variable 'ram'?\n",
    "df.ram.median()"
   ]
  },
  {
   "cell_type": "code",
   "execution_count": 5,
   "metadata": {},
   "outputs": [],
   "source": [
    "# Shuffle the dataset (the filtered one you created above), use seed 42.\n",
    "# Split your data in train/val/test sets, with 60%/20%/20% distribution.\n",
    "def shuffle_and_split(data, ratio=[0.6, 0.2, 0.2]):\n",
    "    n = data.shape[0]\n",
    "    n_val = int(n * ratio[1])\n",
    "    n_test = int(n * ratio[2])\n",
    "    n_train = n - n_val - n_test\n",
    "\n",
    "    idx = np.arange(n)\n",
    "    np.random.seed(42)\n",
    "    np.random.shuffle(idx)\n",
    "\n",
    "    df_train = data.iloc[idx[:n_train]].reset_index(drop=True)\n",
    "    df_val = data.iloc[idx[n_train:n_train+n_val]].reset_index(drop=True)\n",
    "    df_test = data.iloc[idx[n_train+n_val:]].reset_index(drop=True)\n",
    "    return df_train, df_val, df_test"
   ]
  },
  {
   "cell_type": "code",
   "execution_count": 6,
   "metadata": {},
   "outputs": [],
   "source": [
    "# We need to deal with missing values for the column from Q1.\n",
    "# two options: fill it with 0 or with the mean of this variable.\n",
    "# Try both options. For each, train a linear regression model without regularization.\n",
    "# Use the validation dataset to evaluate the models and compare the RMSE of each option.\n",
    "# Which option gives better RMSE?"
   ]
  },
  {
   "cell_type": "code",
   "execution_count": 7,
   "metadata": {},
   "outputs": [],
   "source": [
    "def train_linear_regression(X, y):\n",
    "    ones = np.ones(X.shape[0])\n",
    "    X = np.column_stack([ones, X])\n",
    "\n",
    "    XTX = X.T.dot(X)\n",
    "    XTX_inv = np.linalg.inv(XTX)\n",
    "    w_full = XTX_inv.dot(X.T).dot(y)\n",
    "    \n",
    "    return w_full[0], w_full[1:]\n",
    "\n",
    "def get_prediction(w0, w, X_train):\n",
    "    y_pred = w0 + X_train.dot(w)\n",
    "    return y_pred"
   ]
  },
  {
   "cell_type": "markdown",
   "metadata": {},
   "source": [
    "Fill with 0"
   ]
  },
  {
   "cell_type": "code",
   "execution_count": 8,
   "metadata": {},
   "outputs": [
    {
     "data": {
      "text/plain": [
       "597.36"
      ]
     },
     "execution_count": 8,
     "metadata": {},
     "output_type": "execute_result"
    }
   ],
   "source": [
    "df_train, df_val, df_test = shuffle_and_split(df)\n",
    "df_train.screen = df_train.screen.fillna(0)\n",
    "df_val.screen = df_val.screen.fillna(0)\n",
    "X_train, y_train = df_train.drop('final_price', axis=1), df_train.final_price\n",
    "X_val, y_val = df_val.drop('final_price', axis=1), df_val.final_price\n",
    "train_linear_regression(X_train, y_train)\n",
    "y_pred = get_prediction(*train_linear_regression(X_train, y_train), X_val)\n",
    "round(np.sqrt(mean_squared_error(np.array(y_val), y_pred)), 2)"
   ]
  },
  {
   "cell_type": "markdown",
   "metadata": {},
   "source": [
    "Fill with mean"
   ]
  },
  {
   "cell_type": "code",
   "execution_count": 9,
   "metadata": {},
   "outputs": [
    {
     "data": {
      "text/plain": [
       "597.57"
      ]
     },
     "execution_count": 9,
     "metadata": {},
     "output_type": "execute_result"
    }
   ],
   "source": [
    "df_train, df_val, df_test = shuffle_and_split(df)\n",
    "df_train.screen = df_train.screen.fillna(df_train.final_price.mean())\n",
    "df_val.screen = df_val.screen.fillna(df_train.final_price.mean())\n",
    "X_train, y_train = df_train.drop('final_price', axis=1), df_train.final_price\n",
    "X_val, y_val = df_val.drop('final_price', axis=1), df_val.final_price\n",
    "train_linear_regression(X_train, y_train)\n",
    "y_pred = get_prediction(*train_linear_regression(X_train, y_train), X_val)\n",
    "round(np.sqrt(mean_squared_error(np.array(y_val), y_pred)), 2)"
   ]
  },
  {
   "cell_type": "code",
   "execution_count": 10,
   "metadata": {},
   "outputs": [],
   "source": [
    "def train_linear_regression_reg(X, y, r=0.001):\n",
    "    ones = np.ones(X.shape[0])\n",
    "    X = np.column_stack([ones, X])\n",
    "\n",
    "    XTX = X.T.dot(X)\n",
    "    XTX = XTX + r * np.eye(XTX.shape[0])\n",
    "\n",
    "    XTX_inv = np.linalg.inv(XTX)\n",
    "    w_full = XTX_inv.dot(X.T).dot(y)\n",
    "    \n",
    "    return w_full[0], w_full[1:]"
   ]
  },
  {
   "cell_type": "code",
   "execution_count": 11,
   "metadata": {},
   "outputs": [],
   "source": [
    "# Now let's train a regularized linear regression.\n",
    "# For this question, fill the NAs with 0.\n",
    "# Try different values of r from this list: [0, 0.01, 0.1, 1, 5, 10, 100].\n",
    "# Use RMSE to evaluate the model on the validation dataset.\n",
    "# Round the RMSE scores to 2 decimal digits.\n",
    "# Which r gives the best RMSE?\n",
    "df.screen = df.screen.fillna(0)\n",
    "df_train, df_val, df_test = shuffle_and_split(df)\n",
    "X_train, y_train = df_train.drop('final_price', axis=1), df_train.final_price\n",
    "X_val, y_val = df_val.drop('final_price', axis=1), df_val.final_price\n",
    "\n",
    "rs = [0, 0.01, 0.1, 1, 5, 10, 100]\n",
    "results = {}\n",
    "for r in rs:\n",
    "    y_pred = get_prediction(*train_linear_regression_reg(X_train, y_train, r), X_val)\n",
    "    results[r] = round(np.sqrt(mean_squared_error(np.array(y_val), y_pred)), 2)"
   ]
  },
  {
   "cell_type": "code",
   "execution_count": 12,
   "metadata": {},
   "outputs": [
    {
     "data": {
      "image/png": "[encoded data removed]",
      "text/plain": [
       "<Figure size 1000x500 with 1 Axes>"
      ]
     },
     "metadata": {},
     "output_type": "display_data"
    }
   ],
   "source": [
    "plt.figure(figsize=(10, 5))\n",
    "_ = sns.lineplot(x=[str(i) for i in results.keys()], y=results.values())\n",
    "plt.title('Regularization')\n",
    "plt.show()"
   ]
  },
  {
   "cell_type": "code",
   "execution_count": 13,
   "metadata": {},
   "outputs": [],
   "source": [
    "# Try different seed values: [0, 1, 2, 3, 4, 5, 6, 7, 8, 9].\n",
    "# For each seed, do the train/validation/test split with 60%/20%/20% distribution.\n",
    "# Fill the missing values with 0 and train a model without regularization.\n",
    "# For each seed, evaluate the model on the validation dataset and collect the RMSE scores.\n",
    "# What's the standard deviation of all the scores? To compute the standard deviation, use np.std.\n",
    "# Round the result to 3 decimal digits (round(std, 3))\n",
    "def shuffle_and_split_with_seed(data, ratio=[0.6, 0.2, 0.2], seed_val=42):\n",
    "    n = data.shape[0]\n",
    "    n_val = int(n * ratio[1])\n",
    "    n_test = int(n * ratio[2])\n",
    "    n_train = n - n_val - n_test\n",
    "\n",
    "    idx = np.arange(n)\n",
    "    np.random.seed(seed_val)\n",
    "    np.random.shuffle(idx)\n",
    "\n",
    "    df_train = data.iloc[idx[:n_train]].reset_index(drop=True)\n",
    "    df_val = data.iloc[idx[n_train:n_train+n_val]].reset_index(drop=True)\n",
    "    df_test = data.iloc[idx[n_train+n_val:]].reset_index(drop=True)\n",
    "    return df_train, df_val, df_test\n",
    "\n",
    "seeds = [0, 1, 2, 3, 4, 5, 6, 7, 8, 9]\n",
    "results = {}\n",
    "for s in seeds:\n",
    "    df_train, df_val, df_test = shuffle_and_split_with_seed(df, seed_val=s)\n",
    "    X_train, y_train = df_train.drop('final_price', axis=1), df_train.final_price\n",
    "    X_val, y_val = df_val.drop('final_price', axis=1), df_val.final_price\n",
    "    train_linear_regression(X_train, y_train)\n",
    "    y_pred = get_prediction(*train_linear_regression(X_train, y_train), X_val)\n",
    "    res = np.sqrt(mean_squared_error(np.array(y_val), y_pred))\n",
    "    results[s] = res"
   ]
  },
  {
   "cell_type": "code",
   "execution_count": 14,
   "metadata": {},
   "outputs": [
    {
     "data": {
      "text/plain": [
       "29.17649125829235"
      ]
     },
     "execution_count": 14,
     "metadata": {},
     "output_type": "execute_result"
    }
   ],
   "source": [
    "np.std(list(results.values()))"
   ]
  },
  {
   "cell_type": "code",
   "execution_count": 15,
   "metadata": {},
   "outputs": [
    {
     "data": {
      "text/plain": [
       "576.1"
      ]
     },
     "execution_count": 15,
     "metadata": {},
     "output_type": "execute_result"
    }
   ],
   "source": [
    "# Split the dataset like previously, use seed 9.\n",
    "# Combine train and validation datasets.\n",
    "# Fill the missing values with 0 and train a model with r=0.001.\n",
    "# What's the RMSE on the test dataset?\n",
    "df_train, df_val, df_test = shuffle_and_split_with_seed(df, seed_val=9)\n",
    "X_train, y_train = df_train.drop('final_price', axis=1), df_train.final_price\n",
    "X_val, y_val = df_val.drop('final_price', axis=1), df_val.final_price\n",
    "\n",
    "y_pred = get_prediction(*train_linear_regression_reg(X_train, y_train, r=0.001), X_val)\n",
    "round(np.sqrt(mean_squared_error(np.array(y_val), y_pred)), 2)"
   ]
  }
 ],
 "metadata": {
  "kernelspec": {
   "display_name": "Python 3",
   "language": "python",
   "name": "python3"
  },
  "language_info": {
   "codemirror_mode": {
    "name": "ipython",
    "version": 3
   },
   "file_extension": ".py",
   "mimetype": "text/x-python",
   "name": "python",
   "nbconvert_exporter": "python",
   "pygments_lexer": "ipython3",
   "version": "3.10.7"
  }
 },
 "nbformat": 4,
 "nbformat_minor": 2
}
